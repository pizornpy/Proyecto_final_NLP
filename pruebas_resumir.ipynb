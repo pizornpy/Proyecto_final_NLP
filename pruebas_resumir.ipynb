{
 "cells": [
  {
   "cell_type": "code",
   "execution_count": 2,
   "metadata": {},
   "outputs": [],
   "source": [
    "import pandas as pd \n",
    "from transformers import pipeline\n",
    "from joblib import Parallel, delayed"
   ]
  },
  {
   "cell_type": "code",
   "execution_count": 5,
   "metadata": {},
   "outputs": [],
   "source": [
    "data = pd.read_csv(r\"C:\\Users\\Juan\\Desktop\\Proyecto_final_NLP\\dataen.csv\")"
   ]
  },
  {
   "cell_type": "code",
   "execution_count": 4,
   "metadata": {},
   "outputs": [
    {
     "data": {
      "text/html": [
       "<div>\n",
       "<style scoped>\n",
       "    .dataframe tbody tr th:only-of-type {\n",
       "        vertical-align: middle;\n",
       "    }\n",
       "\n",
       "    .dataframe tbody tr th {\n",
       "        vertical-align: top;\n",
       "    }\n",
       "\n",
       "    .dataframe thead th {\n",
       "        text-align: right;\n",
       "    }\n",
       "</style>\n",
       "<table border=\"1\" class=\"dataframe\">\n",
       "  <thead>\n",
       "    <tr style=\"text-align: right;\">\n",
       "      <th></th>\n",
       "      <th>Unnamed: 0</th>\n",
       "      <th>author</th>\n",
       "      <th>title</th>\n",
       "      <th>work</th>\n",
       "    </tr>\n",
       "  </thead>\n",
       "  <tbody>\n",
       "    <tr>\n",
       "      <th>0</th>\n",
       "      <td>0</td>\n",
       "      <td>\"'Tis Sixty Years Since\"</td>\n",
       "      <td>Charles Francis Adams</td>\n",
       "      <td>Title: \"'Tis Sixty Years Since\" Author: Charle...</td>\n",
       "    </tr>\n",
       "    <tr>\n",
       "      <th>1</th>\n",
       "      <td>1</td>\n",
       "      <td>A Beginner's History of Philosophy, Vol. 2: Mo...</td>\n",
       "      <td>Cushman</td>\n",
       "      <td>Title: A Beginner's History of Philosophy, Vol...</td>\n",
       "    </tr>\n",
       "    <tr>\n",
       "      <th>2</th>\n",
       "      <td>2</td>\n",
       "      <td>A Chosen Few: Short Stories</td>\n",
       "      <td>Frank Richard Stockton</td>\n",
       "      <td>Title: A Chosen Few: Short Stories Author: Fra...</td>\n",
       "    </tr>\n",
       "    <tr>\n",
       "      <th>3</th>\n",
       "      <td>3</td>\n",
       "      <td>A Critical History of Greek Philosophy</td>\n",
       "      <td>W. T. Stace</td>\n",
       "      <td>Title: A Critical History of Greek Philosophy ...</td>\n",
       "    </tr>\n",
       "    <tr>\n",
       "      <th>4</th>\n",
       "      <td>4</td>\n",
       "      <td>A Discovrse of Fire and Salt</td>\n",
       "      <td>Blaise de Vigenère</td>\n",
       "      <td>Title: A Discovrse of Fire and Salt Author: Bl...</td>\n",
       "    </tr>\n",
       "  </tbody>\n",
       "</table>\n",
       "</div>"
      ],
      "text/plain": [
       "   Unnamed: 0                                             author  \\\n",
       "0           0                           \"'Tis Sixty Years Since\"   \n",
       "1           1  A Beginner's History of Philosophy, Vol. 2: Mo...   \n",
       "2           2                        A Chosen Few: Short Stories   \n",
       "3           3             A Critical History of Greek Philosophy   \n",
       "4           4                       A Discovrse of Fire and Salt   \n",
       "\n",
       "                    title                                               work  \n",
       "0   Charles Francis Adams  Title: \"'Tis Sixty Years Since\" Author: Charle...  \n",
       "1                 Cushman  Title: A Beginner's History of Philosophy, Vol...  \n",
       "2  Frank Richard Stockton  Title: A Chosen Few: Short Stories Author: Fra...  \n",
       "3             W. T. Stace  Title: A Critical History of Greek Philosophy ...  \n",
       "4      Blaise de Vigenère  Title: A Discovrse of Fire and Salt Author: Bl...  "
      ]
     },
     "execution_count": 4,
     "metadata": {},
     "output_type": "execute_result"
    }
   ],
   "source": [
    "data.head()"
   ]
  },
  {
   "cell_type": "code",
   "execution_count": null,
   "metadata": {},
   "outputs": [],
   "source": [
    "#Vamos a intentar resumir los libros que tenemos, vamos a probar varias estrategias con el mismo libro"
   ]
  },
  {
   "cell_type": "code",
   "execution_count": 6,
   "metadata": {},
   "outputs": [],
   "source": [
    "data =data.drop([\"Unnamed: 0\"], axis=1)"
   ]
  },
  {
   "cell_type": "code",
   "execution_count": null,
   "metadata": {},
   "outputs": [],
   "source": [
    "data.at[0, \"work\"]"
   ]
  },
  {
   "cell_type": "code",
   "execution_count": 9,
   "metadata": {},
   "outputs": [
    {
     "data": {
      "text/plain": [
       "list"
      ]
     },
     "execution_count": 9,
     "metadata": {},
     "output_type": "execute_result"
    }
   ],
   "source": [
    "type(data.at[0, \"work\"])\n",
    "lista = list(data.at[0, \"work\"])\n"
   ]
  },
  {
   "cell_type": "code",
   "execution_count": 7,
   "metadata": {},
   "outputs": [],
   "source": [
    "def separar(str, leng):\n",
    "    return [str[i:i+leng] for i in range(0, len(str), leng)]"
   ]
  },
  {
   "cell_type": "code",
   "execution_count": 27,
   "metadata": {},
   "outputs": [],
   "source": [
    "libro = separar(data.at[0, \"work\"], 1024)"
   ]
  },
  {
   "cell_type": "code",
   "execution_count": 24,
   "metadata": {},
   "outputs": [
    {
     "data": {
      "text/plain": [
       "196507"
      ]
     },
     "execution_count": 24,
     "metadata": {},
     "output_type": "execute_result"
    }
   ],
   "source": [
    "len(data.at[0, \"work\"])"
   ]
  },
  {
   "cell_type": "code",
   "execution_count": 31,
   "metadata": {},
   "outputs": [
    {
     "name": "stdout",
     "output_type": "stream",
     "text": [
      "<class 'str'>\n"
     ]
    }
   ],
   "source": [
    "for dic in resumido: \n",
    "    for v in dic.values():\n",
    "        print(type(v))"
   ]
  },
  {
   "cell_type": "code",
   "execution_count": 9,
   "metadata": {},
   "outputs": [
    {
     "name": "stderr",
     "output_type": "stream",
     "text": [
      "All model checkpoint layers were used when initializing TFBartForConditionalGeneration.\n",
      "\n",
      "All the layers of TFBartForConditionalGeneration were initialized from the model checkpoint at facebook/bart-large-cnn.\n",
      "If your task is similar to the task the model of the checkpoint was trained on, you can already use TFBartForConditionalGeneration for predictions without further training.\n"
     ]
    }
   ],
   "source": [
    "summarizer = pipeline(\"summarization\", model=\"facebook/bart-large-cnn\")\n",
    "\n"
   ]
  },
  {
   "cell_type": "code",
   "execution_count": 15,
   "metadata": {},
   "outputs": [
    {
     "data": {
      "text/plain": [
       "192"
      ]
     },
     "execution_count": 15,
     "metadata": {},
     "output_type": "execute_result"
    }
   ],
   "source": [
    "len(libro)"
   ]
  },
  {
   "cell_type": "code",
   "execution_count": 28,
   "metadata": {},
   "outputs": [
    {
     "name": "stderr",
     "output_type": "stream",
     "text": [
      "Ignoring args : (1024,)\n"
     ]
    }
   ],
   "source": [
    "resumido =(summarizer(libro[30], len(libro[30]), min_length=50, do_sample=False))\n"
   ]
  },
  {
   "cell_type": "code",
   "execution_count": 29,
   "metadata": {},
   "outputs": [
    {
     "name": "stdout",
     "output_type": "stream",
     "text": [
      "<class 'dict'>\n"
     ]
    }
   ],
   "source": [
    "for i in resumido:\n",
    "    print(type(i))"
   ]
  },
  {
   "cell_type": "code",
   "execution_count": 30,
   "metadata": {},
   "outputs": [
    {
     "name": "stdout",
     "output_type": "stream",
     "text": [
      "<class 'list'>\n"
     ]
    }
   ],
   "source": [
    "print(type(resumido))"
   ]
  },
  {
   "cell_type": "code",
   "execution_count": null,
   "metadata": {},
   "outputs": [],
   "source": [
    "results2 = Parallel(n_jobs=6)(delayed(extract_gut)(BASE_URL.format(start_index)) for start_index in start_indices)\n"
   ]
  },
  {
   "cell_type": "code",
   "execution_count": 37,
   "metadata": {},
   "outputs": [],
   "source": [
    "def resumir(str): \n",
    "    lista =separar(str,1024)\n",
    "    resumenes = Parallel(n_jobs=7)(delayed(summarizer)(l, len(l), len(l)/3, do_sample=False) for l in lista)\n",
    "    print(\"La primera parte funciona\")\n",
    "    resumenes2 = []\n",
    "    a_resumir = []\n",
    "    for lst in resumenes: \n",
    "        for dic in lst:\n",
    "            a_resumir.append(dic.values)\n",
    "            for l in a_resumir:\n",
    "                for l2 in l: \n",
    "                    resumenes2.append(summarizer(l2, len(l2), len(l2)/3, do_sample = False))\n",
    "        \n",
    "    return resumenes2\n"
   ]
  },
  {
   "cell_type": "code",
   "execution_count": 3,
   "metadata": {},
   "outputs": [],
   "source": [
    "def resumir(str): \n",
    "    lista =separar(str,1024)\n",
    "    resumenes = Parallel(n_jobs=6)(delayed(summarizer)(l, len(l), len(l)/3, do_sample=False) for l in lista)\n",
    "    print(\"La primera parte funciona\")\n",
    "    return resumenes"
   ]
  },
  {
   "cell_type": "code",
   "execution_count": 10,
   "metadata": {},
   "outputs": [
    {
     "name": "stderr",
     "output_type": "stream",
     "text": [
      "c:\\Users\\Juan\\anaconda3\\lib\\site-packages\\transformers\\generation\\tf_utils.py:465: UserWarning: `seed_generator` is deprecated and will be removed in a future version.\n",
      "  warnings.warn(\"`seed_generator` is deprecated and will be removed in a future version.\", UserWarning)\n"
     ]
    }
   ],
   "source": [
    "r = resumir(data.at[0, \"work\"])"
   ]
  },
  {
   "cell_type": "code",
   "execution_count": null,
   "metadata": {},
   "outputs": [],
   "source": []
  }
 ],
 "metadata": {
  "kernelspec": {
   "display_name": "base",
   "language": "python",
   "name": "python3"
  },
  "language_info": {
   "codemirror_mode": {
    "name": "ipython",
    "version": 3
   },
   "file_extension": ".py",
   "mimetype": "text/x-python",
   "name": "python",
   "nbconvert_exporter": "python",
   "pygments_lexer": "ipython3",
   "version": "3.9.13"
  },
  "orig_nbformat": 4
 },
 "nbformat": 4,
 "nbformat_minor": 2
}
