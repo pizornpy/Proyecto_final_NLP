{
 "cells": [
  {
   "cell_type": "code",
   "execution_count": 2,
   "metadata": {},
   "outputs": [],
   "source": [
    "import pandas as pd \n",
    "import pickle\n",
    "import transformers \n",
    "from sklearn.preprocessing import LabelEncoder\n"
   ]
  },
  {
   "cell_type": "code",
   "execution_count": 3,
   "metadata": {},
   "outputs": [],
   "source": [
    "import numpy as np"
   ]
  },
  {
   "cell_type": "code",
   "execution_count": 4,
   "metadata": {},
   "outputs": [],
   "source": [
    "jacinto = pickle.load(open('jacinto.pkl', 'rb'))"
   ]
  },
  {
   "cell_type": "code",
   "execution_count": 5,
   "metadata": {},
   "outputs": [],
   "source": [
    "og = pd.read_csv(r\"C:\\Users\\Juan\\Desktop\\Proyecto_final_NLP\\phil_nlp.csv\")"
   ]
  },
  {
   "cell_type": "code",
   "execution_count": 4,
   "metadata": {},
   "outputs": [],
   "source": [
    "res = pd.read_csv(r\"C:\\Users\\Juan\\Desktop\\Proyecto_final_NLP\\datares.csv\")"
   ]
  },
  {
   "cell_type": "code",
   "execution_count": 20,
   "metadata": {},
   "outputs": [
    {
     "data": {
      "text/plain": [
       "Index(['author', 'title', 'work', 'palabras_filtradas', 'resumen'], dtype='object')"
      ]
     },
     "execution_count": 20,
     "metadata": {},
     "output_type": "execute_result"
    }
   ],
   "source": [
    "res.columns"
   ]
  },
  {
   "cell_type": "code",
   "execution_count": 7,
   "metadata": {},
   "outputs": [],
   "source": [
    "res.drop(\"work\", axis=1, inplace=True )"
   ]
  },
  {
   "cell_type": "code",
   "execution_count": 8,
   "metadata": {},
   "outputs": [],
   "source": [
    "res.drop(\"palabras_filtradas\", axis=1, inplace=True )"
   ]
  },
  {
   "cell_type": "code",
   "execution_count": 23,
   "metadata": {},
   "outputs": [
    {
     "data": {
      "text/plain": [
       "'war independence mistakenly denominatedthe revolutionary war struggle distinctlyconservative character way revolutionary thewar independence gave great impetusto process resulting known federation.then came constitution 1787 formationof called united states distinct nationality.the united states next passed two definite processesof crystallization one 1812-1814 whenthe second war great britain especiallyour naval victories kindled especially north fire patriotism conception nationality half century later presented stern issuein concrete form last complete unificationof community whether better worse nomatter hammered iron cemented blood.it established fact war independence mistakenly denominatedthe revolutionary war struggle distinctlyconservative character way revolutionary thewar independence gave great impetusto process resulting known federation.then came constitution 1787 formationof called united states distinct nationality.the united states next passed two definite processesof crystallization one 1812-1814 whenthe second war great britain especiallyour naval victories kindled especially north fire patriotism conception nationality half century later presented stern issuein concrete form last complete unificationof community whether better worse nomatter hammered iron cemented blood.it established fact'"
      ]
     },
     "execution_count": 23,
     "metadata": {},
     "output_type": "execute_result"
    }
   ],
   "source": [
    "resu = res.at[0, \"resumen\"]\n",
    "resu"
   ]
  },
  {
   "cell_type": "code",
   "execution_count": 44,
   "metadata": {},
   "outputs": [],
   "source": [
    "lst = resu.split()\n"
   ]
  },
  {
   "cell_type": "code",
   "execution_count": 9,
   "metadata": {},
   "outputs": [],
   "source": [
    "from keras.preprocessing.text import Tokenizer\n",
    "from keras.utils import pad_sequences\n",
    "from sklearn.model_selection import train_test_split as tts\n"
   ]
  },
  {
   "cell_type": "code",
   "execution_count": 48,
   "metadata": {},
   "outputs": [],
   "source": [
    "predict1=\" \".join(predict)"
   ]
  },
  {
   "cell_type": "code",
   "execution_count": 71,
   "metadata": {},
   "outputs": [
    {
     "name": "stdout",
     "output_type": "stream",
     "text": [
      "42/42 [==============================] - 0s 7ms/step\n"
     ]
    }
   ],
   "source": [
    "pred =jacinto.predict(X_train_padded)"
   ]
  },
  {
   "cell_type": "code",
   "execution_count": 52,
   "metadata": {},
   "outputs": [
    {
     "data": {
      "text/html": [
       "<div>\n",
       "<style scoped>\n",
       "    .dataframe tbody tr th:only-of-type {\n",
       "        vertical-align: middle;\n",
       "    }\n",
       "\n",
       "    .dataframe tbody tr th {\n",
       "        vertical-align: top;\n",
       "    }\n",
       "\n",
       "    .dataframe thead th {\n",
       "        text-align: right;\n",
       "    }\n",
       "</style>\n",
       "<table border=\"1\" class=\"dataframe\">\n",
       "  <thead>\n",
       "    <tr style=\"text-align: right;\">\n",
       "      <th></th>\n",
       "      <th>title</th>\n",
       "      <th>author</th>\n",
       "      <th>school</th>\n",
       "      <th>sentence_spacy</th>\n",
       "      <th>sentence</th>\n",
       "      <th>sentence_length</th>\n",
       "      <th>sentence_lowered</th>\n",
       "      <th>tokenized_txt</th>\n",
       "      <th>lemmatized_str</th>\n",
       "    </tr>\n",
       "  </thead>\n",
       "  <tbody>\n",
       "    <tr>\n",
       "      <th>0</th>\n",
       "      <td>Plato - Complete Works</td>\n",
       "      <td>Plato</td>\n",
       "      <td>plato</td>\n",
       "      <td>What's new, Socrates, to make you leave your ...</td>\n",
       "      <td>What's new, Socrates, to make you leave your ...</td>\n",
       "      <td>125</td>\n",
       "      <td>what's new, socrates, to make you leave your ...</td>\n",
       "      <td>['what', 'new', 'socrates', 'to', 'make', 'you...</td>\n",
       "      <td>what be new , Socrates , to make -PRON- lea...</td>\n",
       "    </tr>\n",
       "    <tr>\n",
       "      <th>1</th>\n",
       "      <td>Plato - Complete Works</td>\n",
       "      <td>Plato</td>\n",
       "      <td>plato</td>\n",
       "      <td>Surely you are not prosecuting anyone before t...</td>\n",
       "      <td>Surely you are not prosecuting anyone before t...</td>\n",
       "      <td>69</td>\n",
       "      <td>surely you are not prosecuting anyone before t...</td>\n",
       "      <td>['surely', 'you', 'are', 'not', 'prosecuting',...</td>\n",
       "      <td>surely -PRON- be not prosecute anyone before ...</td>\n",
       "    </tr>\n",
       "    <tr>\n",
       "      <th>2</th>\n",
       "      <td>Plato - Complete Works</td>\n",
       "      <td>Plato</td>\n",
       "      <td>plato</td>\n",
       "      <td>The Athenians do not call this a prosecution b...</td>\n",
       "      <td>The Athenians do not call this a prosecution b...</td>\n",
       "      <td>74</td>\n",
       "      <td>the athenians do not call this a prosecution b...</td>\n",
       "      <td>['the', 'athenians', 'do', 'not', 'call', 'thi...</td>\n",
       "      <td>the Athenians do not call this a prosecution ...</td>\n",
       "    </tr>\n",
       "    <tr>\n",
       "      <th>3</th>\n",
       "      <td>Plato - Complete Works</td>\n",
       "      <td>Plato</td>\n",
       "      <td>plato</td>\n",
       "      <td>What is this you say?</td>\n",
       "      <td>What is this you say?</td>\n",
       "      <td>21</td>\n",
       "      <td>what is this you say?</td>\n",
       "      <td>['what', 'is', 'this', 'you', 'say']</td>\n",
       "      <td>what be this -PRON- say ?</td>\n",
       "    </tr>\n",
       "    <tr>\n",
       "      <th>4</th>\n",
       "      <td>Plato - Complete Works</td>\n",
       "      <td>Plato</td>\n",
       "      <td>plato</td>\n",
       "      <td>Someone must have indicted you, for you are no...</td>\n",
       "      <td>Someone must have indicted you, for you are no...</td>\n",
       "      <td>101</td>\n",
       "      <td>someone must have indicted you, for you are no...</td>\n",
       "      <td>['someone', 'must', 'have', 'indicted', 'you',...</td>\n",
       "      <td>someone must have indict -PRON- , for -PRON- ...</td>\n",
       "    </tr>\n",
       "  </tbody>\n",
       "</table>\n",
       "</div>"
      ],
      "text/plain": [
       "                    title author school  \\\n",
       "0  Plato - Complete Works  Plato  plato   \n",
       "1  Plato - Complete Works  Plato  plato   \n",
       "2  Plato - Complete Works  Plato  plato   \n",
       "3  Plato - Complete Works  Plato  plato   \n",
       "4  Plato - Complete Works  Plato  plato   \n",
       "\n",
       "                                      sentence_spacy  \\\n",
       "0   What's new, Socrates, to make you leave your ...   \n",
       "1  Surely you are not prosecuting anyone before t...   \n",
       "2  The Athenians do not call this a prosecution b...   \n",
       "3                              What is this you say?   \n",
       "4  Someone must have indicted you, for you are no...   \n",
       "\n",
       "                                            sentence  sentence_length  \\\n",
       "0   What's new, Socrates, to make you leave your ...              125   \n",
       "1  Surely you are not prosecuting anyone before t...               69   \n",
       "2  The Athenians do not call this a prosecution b...               74   \n",
       "3                              What is this you say?               21   \n",
       "4  Someone must have indicted you, for you are no...              101   \n",
       "\n",
       "                                    sentence_lowered  \\\n",
       "0   what's new, socrates, to make you leave your ...   \n",
       "1  surely you are not prosecuting anyone before t...   \n",
       "2  the athenians do not call this a prosecution b...   \n",
       "3                              what is this you say?   \n",
       "4  someone must have indicted you, for you are no...   \n",
       "\n",
       "                                       tokenized_txt  \\\n",
       "0  ['what', 'new', 'socrates', 'to', 'make', 'you...   \n",
       "1  ['surely', 'you', 'are', 'not', 'prosecuting',...   \n",
       "2  ['the', 'athenians', 'do', 'not', 'call', 'thi...   \n",
       "3               ['what', 'is', 'this', 'you', 'say']   \n",
       "4  ['someone', 'must', 'have', 'indicted', 'you',...   \n",
       "\n",
       "                                      lemmatized_str  \n",
       "0     what be new , Socrates , to make -PRON- lea...  \n",
       "1   surely -PRON- be not prosecute anyone before ...  \n",
       "2   the Athenians do not call this a prosecution ...  \n",
       "3                          what be this -PRON- say ?  \n",
       "4   someone must have indict -PRON- , for -PRON- ...  "
      ]
     },
     "execution_count": 52,
     "metadata": {},
     "output_type": "execute_result"
    }
   ],
   "source": [
    "og.head()"
   ]
  },
  {
   "cell_type": "code",
   "execution_count": 11,
   "metadata": {},
   "outputs": [],
   "source": [
    "X = og[\"sentence_lowered\"]\n",
    "y = og[\"school\"]\n",
    "\n",
    "X_train, X_test, y_train, y_test = tts(X, y, test_size = 0.2, random_state = 42)\n"
   ]
  },
  {
   "cell_type": "code",
   "execution_count": 12,
   "metadata": {},
   "outputs": [],
   "source": [
    "label_encoder = LabelEncoder()\n",
    "y_train_encoded = label_encoder.fit_transform(y_train)\n",
    "y_test_encoded = label_encoder.transform(y_test)"
   ]
  },
  {
   "cell_type": "code",
   "execution_count": 13,
   "metadata": {},
   "outputs": [],
   "source": [
    "X = og[\"sentence_lowered\"]\n",
    "y = og[\"school\"]\n",
    "\n",
    "\n",
    "X_train, X_test, y_train, y_test = tts(X, y, test_size = 0.2, random_state = 42)\n",
    "\n"
   ]
  },
  {
   "cell_type": "code",
   "execution_count": 14,
   "metadata": {},
   "outputs": [],
   "source": [
    "label_encoder = LabelEncoder()\n",
    "y_train_encoded = label_encoder.fit_transform(y_train)\n",
    "y_test_encoded = label_encoder.transform(y_test)\n",
    "num_classes = len(label_encoder.classes_)"
   ]
  },
  {
   "cell_type": "code",
   "execution_count": 15,
   "metadata": {},
   "outputs": [
    {
     "data": {
      "text/plain": [
       "analytic           42819\n",
       "aristotle          39059\n",
       "german_idealism    33772\n",
       "plato              30585\n",
       "continental        26997\n",
       "phenomenology      22797\n",
       "rationalism        18355\n",
       "empiricism         16010\n",
       "capitalism         14555\n",
       "communism          14363\n",
       "Name: school, dtype: int64"
      ]
     },
     "execution_count": 15,
     "metadata": {},
     "output_type": "execute_result"
    }
   ],
   "source": [
    "y_train.value_counts()"
   ]
  },
  {
   "cell_type": "code",
   "execution_count": 16,
   "metadata": {},
   "outputs": [
    {
     "data": {
      "text/plain": [
       "analytic           53445\n",
       "aristotle          48779\n",
       "german_idealism    42137\n",
       "plato              38391\n",
       "continental        33781\n",
       "phenomenology      28573\n",
       "rationalism        22950\n",
       "empiricism         19931\n",
       "capitalism         18194\n",
       "communism          17959\n",
       "Name: school, dtype: int64"
      ]
     },
     "execution_count": 16,
     "metadata": {},
     "output_type": "execute_result"
    }
   ],
   "source": [
    "og.school.value_counts()"
   ]
  },
  {
   "cell_type": "code",
   "execution_count": 17,
   "metadata": {},
   "outputs": [
    {
     "data": {
      "text/plain": [
       "array(['analytic', 'aristotle', 'capitalism', 'communism', 'continental',\n",
       "       'empiricism', 'german_idealism', 'phenomenology', 'plato',\n",
       "       'rationalism'], dtype=object)"
      ]
     },
     "execution_count": 17,
     "metadata": {},
     "output_type": "execute_result"
    }
   ],
   "source": [
    "label_encoder.classes_"
   ]
  },
  {
   "cell_type": "code",
   "execution_count": 25,
   "metadata": {},
   "outputs": [],
   "source": [
    "max_sequence_length = 300  # Maximum sequence length for padding\n",
    "tokenizer = Tokenizer()\n",
    "tokenizer.fit_on_texts(res.at[200, \"resumen\"])\n",
    "\n",
    "X_train_seq = tokenizer.texts_to_sequences(res.at[200, \"resumen\"])\n",
    "\n",
    "X_train_padded = pad_sequences(X_train_seq, maxlen=max_sequence_length)\n"
   ]
  },
  {
   "cell_type": "code",
   "execution_count": 5,
   "metadata": {},
   "outputs": [
    {
     "data": {
      "text/plain": [
       "'Giordano Bruno'"
      ]
     },
     "execution_count": 5,
     "metadata": {},
     "output_type": "execute_result"
    }
   ],
   "source": [
    "res.at[200, \"title\"]"
   ]
  },
  {
   "cell_type": "code",
   "execution_count": 26,
   "metadata": {},
   "outputs": [
    {
     "name": "stdout",
     "output_type": "stream",
     "text": [
      "51/51 [==============================] - 0s 7ms/step\n"
     ]
    }
   ],
   "source": [
    "pred =jacinto.predict(X_train_padded)\n"
   ]
  },
  {
   "cell_type": "code",
   "execution_count": 27,
   "metadata": {},
   "outputs": [
    {
     "data": {
      "text/plain": [
       "array(['rationalism', 'rationalism', 'german_idealism', ..., 'plato',\n",
       "       'rationalism', 'german_idealism'], dtype=object)"
      ]
     },
     "execution_count": 27,
     "metadata": {},
     "output_type": "execute_result"
    }
   ],
   "source": [
    "predicted_classes = np.argmax(pred, axis=1)\n",
    "original_predictions = label_encoder.inverse_transform(predicted_classes)\n",
    "original_predictions"
   ]
  },
  {
   "cell_type": "code",
   "execution_count": 28,
   "metadata": {},
   "outputs": [
    {
     "data": {
      "text/plain": [
       "array([9, 9, 6, ..., 8, 9, 6], dtype=int64)"
      ]
     },
     "execution_count": 28,
     "metadata": {},
     "output_type": "execute_result"
    }
   ],
   "source": [
    "predicted_classes \n"
   ]
  },
  {
   "cell_type": "code",
   "execution_count": 178,
   "metadata": {},
   "outputs": [
    {
     "data": {
      "image/png": "[encoded data removed]",
      "text/plain": [
       "<Figure size 640x480 with 1 Axes>"
      ]
     },
     "metadata": {},
     "output_type": "display_data"
    }
   ],
   "source": [
    "import matplotlib.pyplot as plt\n",
    " \n",
    "clase = og[\"school\"].value_counts()\n",
    "clase_dis = clase / len(og) * 100\n",
    "\n",
    "# Visualize the class distribution\n",
    "plt.bar(clase_dis.index, clase_dis.values)\n",
    "plt.xlabel('Clase')\n",
    "plt.ylabel('%')\n",
    "\n",
    "plt.show()\n"
   ]
  },
  {
   "cell_type": "code",
   "execution_count": 185,
   "metadata": {},
   "outputs": [],
   "source": [
    "# Maravilloso, jacinto está overfiteado"
   ]
  },
  {
   "cell_type": "code",
   "execution_count": 183,
   "metadata": {},
   "outputs": [],
   "source": [
    "class_weights = class_weight.compute_class_weight(class_weight='balanced',\n",
    "                classes=np.unique(label_encoder.classes_), \n",
    "                y=y_train)"
   ]
  },
  {
   "cell_type": "code",
   "execution_count": 184,
   "metadata": {},
   "outputs": [
    {
     "data": {
      "text/plain": [
       "array([0.60560032, 0.66389821, 1.78160082, 1.8054167 , 0.96052154,\n",
       "       1.6196877 , 0.76783134, 1.137483  , 0.84784044, 1.41275947])"
      ]
     },
     "execution_count": 184,
     "metadata": {},
     "output_type": "execute_result"
    }
   ],
   "source": [
    "class_weights"
   ]
  },
  {
   "cell_type": "code",
   "execution_count": 12,
   "metadata": {},
   "outputs": [
    {
     "data": {
      "text/plain": [
       "Aristotle - Complete Works                                 48779\n",
       "Plato - Complete Works                                     38391\n",
       "Lewis - Papers                                             13120\n",
       "The Search After Truth                                     12997\n",
       "Kapital                                                    12997\n",
       "The Wealth Of Nations                                      11693\n",
       "Science Of Logic                                           10679\n",
       "Philosophical Troubles                                      9799\n",
       "Being And Time                                              8505\n",
       "Madness And Civilization                                    8033\n",
       "Essay Concerning Human Understanding                        7742\n",
       "The Phenomenology Of Perception                             7592\n",
       "Critique Of Pure Reason                                     7472\n",
       "Quintessence                                                7373\n",
       "The Phenomenology Of Spirit                                 7099\n",
       "A Treatise Of Human Nature                                  7047\n",
       "Off The Beaten Track                                        6734\n",
       "Anti-Oedipus                                                6679\n",
       "Writing And Difference                                      6001\n",
       "Difference And Repetition                                   5861\n",
       "Philosophical Investigations                                5841\n",
       "The System Of Ethics                                        5308\n",
       "Theodicy                                                    5027\n",
       "Elements Of The Philosophy Of Right                         4923\n",
       "The Crisis Of The European Sciences And Phenomenology       4832\n",
       "The Order Of Things                                         4689\n",
       "The Logic Of Scientific Discovery                           4678\n",
       "Essential Works Of Lenin                                    4469\n",
       "Critique Of Judgement                                       4204\n",
       "Philosophical Studies                                       3668\n",
       "The Analysis Of Mind                                        3513\n",
       "A General Theory Of Employment, Interest, And Money         3411\n",
       "Ethics                                                      3305\n",
       "On The Principles Of Political Economy And Taxation         3090\n",
       "Naming And Necessity                                        2681\n",
       "The Birth Of The Clinic                                     2518\n",
       "Critique Of Practical Reason                                2452\n",
       "Three Dialogues                                             1694\n",
       "The Problems Of Philosophy                                  1560\n",
       "Dialogues Concerning Natural Religion                       1265\n",
       "Tractatus Logico-Philosophicus                              1212\n",
       "Second Treatise On Government                               1143\n",
       "A Treatise Concerning The Principles Of Human Knowledge     1040\n",
       "The Idea Of Phenomenology                                    910\n",
       "Meditations                                                  792\n",
       "The Communist Manifesto                                      493\n",
       "On The Improvement Of Understanding                          489\n",
       "Discourse On Method                                          340\n",
       "Name: title, dtype: int64"
      ]
     },
     "execution_count": 12,
     "metadata": {},
     "output_type": "execute_result"
    }
   ],
   "source": [
    "og.title.value_counts()"
   ]
  },
  {
   "cell_type": "code",
   "execution_count": 11,
   "metadata": {},
   "outputs": [
    {
     "data": {
      "text/plain": [
       "Being And Time                                           8505\n",
       "The Phenomenology Of Perception                          7592\n",
       "Off The Beaten Track                                     6734\n",
       "The Crisis Of The European Sciences And Phenomenology    4832\n",
       "The Idea Of Phenomenology                                 910\n",
       "Name: title, dtype: int64"
      ]
     },
     "execution_count": 11,
     "metadata": {},
     "output_type": "execute_result"
    }
   ],
   "source": [
    "m = og[og[\"school\"]== \"phenomenology\"]\n",
    "m.title.value_counts()"
   ]
  },
  {
   "cell_type": "code",
   "execution_count": 23,
   "metadata": {},
   "outputs": [
    {
     "data": {
      "text/plain": [
       "array(['\"\\'Tis Sixty Years Since\"',\n",
       "       \"A Beginner's History of Philosophy, Vol. 2: Modern Philosophy\",\n",
       "       'A Chosen Few: Short Stories',\n",
       "       'A Critical History of Greek Philosophy',\n",
       "       'A Discovrse of Fire and Salt',\n",
       "       'A History of Mediaeval Jewish Philosophy',\n",
       "       'A History of Philosophy in Epitome',\n",
       "       'A New Philosophy: Henri Bergson',\n",
       "       'A Philosophical Dictionary, Volume 01',\n",
       "       'A Philosophical Dictionary, Volume 02',\n",
       "       'A Philosophical Dictionary, Volume 03',\n",
       "       'A Philosophical Dictionary, Volume 04',\n",
       "       'A Philosophical Dictionary, Volume 05',\n",
       "       'A Philosophical Dictionary, Volume 06',\n",
       "       'A Philosophical Dictionary, Volume 08',\n",
       "       'A Philosophical Dictionary, Volume 09',\n",
       "       'A Philosophical Dictionary, Volume 10',\n",
       "       'A Selection from the Discourses of Epictetus with the Encheiridion',\n",
       "       'A System of Logic, Ratiocinative and Inductive',\n",
       "       'A System of Logic, Ratiocinative and Inductive (Vol. 1 of 2)',\n",
       "       'A System of Logic: Ratiocinative and Inductive, 7th Edition, Vol. I',\n",
       "       'A System of Logic: Ratiocinative and Inductive, 7th Edition, Vol. II',\n",
       "       'A Theological-Political Treatise [Part IV]',\n",
       "       'A Treatise Concerning the Principles of Human Knowledge',\n",
       "       'Academica', 'Aesthetical Essays of Friedrich Schiller',\n",
       "       'Aether and Gravitation', 'All Things are Possible',\n",
       "       'American Pomology. Apples',\n",
       "       'An Enquiry Concerning the Principles of Morals',\n",
       "       'An Essay Towards a Philosophy of Education: A Liberal Education for All',\n",
       "       'An Introduction to the Philosophy of Law',\n",
       "       'An ethical philosophy of life presented in its main outlines',\n",
       "       'Apollonius of Tyana, the Philosopher-Reformer of the First Century A.D.',\n",
       "       'Apology', 'Arabic Thought and Its Place in History',\n",
       "       'Aristotle on the art of poetry', 'Auguste Comte and Positivism',\n",
       "       'Autobiography',\n",
       "       \"Baron d'Holbach : a Study of Eighteenth Century Radicalism in France\",\n",
       "       'Biology', 'Bushido, the Soul of Japan',\n",
       "       'Chance, Love, and Logic: Philosophical Essays',\n",
       "       'Character and Opinion in the United States',\n",
       "       'Chaucer\\'s Translation of Boethius\\'s \"De Consolatione Philosophiae\"',\n",
       "       'Chuang Tzu: Mystic, Moralist, and Social Reformer',\n",
       "       'Civilization in the United States: An inquiry',\n",
       "       'Common Sense Applied to Religion; Or, The Bible and the People',\n",
       "       'Complete Works of Plutarch — Volume 3: Essays and Miscellanies',\n",
       "       'Considerations on Representative Government', \"Cowley's Essays\",\n",
       "       'Cratylus',\n",
       "       'Creative Intelligence: Essays in the Pragmatic Attitude',\n",
       "       'Creative Unity', 'Crito', 'Crotchet Castle',\n",
       "       'Dao De Jing: A Minimalist Translation', 'Democritus Platonissans',\n",
       "       'Dialogues Concerning Natural Religion',\n",
       "       'Early Greek Philosophy & Other Essays', 'Early Greek philosophy',\n",
       "       \"Einstein's Theories of Relativity and Gravitation\",\n",
       "       'Enough rope: poems', 'Eryxias', 'Essays',\n",
       "       'Essays Towards a Theory of Knowledge',\n",
       "       'Essays in Radical Empiricism', 'Essays of Schopenhauer',\n",
       "       'Essays on some unsettled Questions of Political Economy',\n",
       "       'Essays: Scientific, Political, & Speculative; Vol. 3 of 3',\n",
       "       'Euthydemus', 'Euthyphro', 'Evolution in Modern Thought',\n",
       "       'Faces in the Fire, and Other Fancies', 'Fathers and Children',\n",
       "       'Fathers and Sons', 'First Principles',\n",
       "       'Five Lectures on Reincarnation', 'Friedrich Nietzsche',\n",
       "       'Fruits of Philosophy: A Treatise on the Population Question',\n",
       "       'Fundamental Principles of the Metaphysic of Morals',\n",
       "       'German philosophy and politics', 'Gospel Philosophy',\n",
       "       'Grounds of Natural Philosophy: Divided into Thirteen Parts',\n",
       "       \"Hegel's Lectures on the History of Philosophy: Volume 1 (of 3)\",\n",
       "       \"Hegel's Lectures on the History of Philosophy: Volume 2 (of 3)\",\n",
       "       \"Hegel's Lectures on the History of Philosophy: Volume 3 (of 3)\",\n",
       "       \"Hegel's Philosophy of Mind\", 'History of Modern Philosophy',\n",
       "       'Homer and Classical Philology',\n",
       "       \"Iamblichus' Life of Pythagoras, or Pythagoric Life\",\n",
       "       'Ideas of Good and Evil',\n",
       "       'Illustrations of Universal Progress: A Series of Discussions',\n",
       "       'Initiation into Philosophy',\n",
       "       'International Congress of Arts and Science, Volume 1',\n",
       "       'Introduction to Mathematical Philosophy', 'Ion',\n",
       "       'Jewish History : An Essay in the Philosophy of History',\n",
       "       'John Brown',\n",
       "       'Joseph Smith as Scientist: A Contribution to Mormon Philosophy',\n",
       "       'Landmarks of Scientific Socialism: \"Anti-Duehring\"',\n",
       "       'Lao-tzu, A Study in Chinese Philosophy',\n",
       "       'Laughter: An Essay on the Meaning of the Comic',\n",
       "       'Lectures on the Philosophy of the Human Mind (Vol. 1 of 3)',\n",
       "       'Lectures on the true, the beautiful and the good',\n",
       "       'Lesser Hippias', 'Letters on England',\n",
       "       'Lives of alchemystical philosophers',\n",
       "       'Logic, Inductive and Deductive', 'Logic: Deductive and Inductive',\n",
       "       'Main Currents in Nineteenth Century Literature - 6. Young Germany',\n",
       "       'Man and Superman: A Comedy and a Philosophy', 'Menexenus',\n",
       "       'Misinforming a Nation', 'Moral Principles in Education',\n",
       "       \"Mr. Dooley's Philosophy\", 'Mysticism and Logic and Other Essays',\n",
       "       'Nature', 'Nature Mysticism',\n",
       "       'Nursing as Caring: A Model for Transforming Practice',\n",
       "       'On the Future of our Educational Institutions',\n",
       "       'On the Improvement of the Understanding',\n",
       "       'On the Nature of Things',\n",
       "       'On the Significance of Science and Art',\n",
       "       'Ontology, or the Theory of Being', 'Opus 21',\n",
       "       'Outlines of Educational Doctrine', 'Parmenides', 'Phaedo',\n",
       "       'Philosophic Nights in Paris',\n",
       "       'Philosophical Letters of Friedrich Schiller',\n",
       "       'Philosophical Studies', 'Philosophical Works, v. 1 (of 4)',\n",
       "       'Philosophumena; or, The refutation of all heresies, Volume I',\n",
       "       'Philosophumena; or, The refutation of all heresies, Volume II',\n",
       "       'Philosophy and the Social Problem', 'Philosophy of Osteopathy',\n",
       "       'Pioneers of Evolution from Thales to Huxley',\n",
       "       'Plato and the Other Companions of Sokrates, 3rd ed. Volume 1',\n",
       "       'Plato and the Other Companions of Sokrates, 3rd ed. Volume 2',\n",
       "       'Plato and the Other Companions of Sokrates, 3rd ed. Volume 4',\n",
       "       'Political Ideals', 'Politics: A Treatise on Government',\n",
       "       'Post-Prandial Philosophy',\n",
       "       'Pragmatism: A New Name for Some Old Ways of Thinking',\n",
       "       'Preliminary Discourse on the Study of Natural Philosophy',\n",
       "       'Proposed Roads to Freedom', 'Protagoras', 'Proverbial Philosophy',\n",
       "       'Readings on Fascism and National Socialism',\n",
       "       'Reconstruction in Philosophy', 'Reflections on War and Death',\n",
       "       'Reflections on the Rise and Fall of the Ancient Republicks',\n",
       "       'Reflections on the painting and sculpture of the Greeks:',\n",
       "       'Roman Stoicism', 'Science and the modern world',\n",
       "       'Science in Short Chapters',\n",
       "       'Selections from the Writings of Kierkegaard',\n",
       "       'Sextus Empiricus and Greek Scepticism',\n",
       "       'Short Studies on Great Subjects', 'Shorter Prose Pieces',\n",
       "       'Siddhartha: A Poem of India', 'Simon Magus',\n",
       "       'Six metaphysical meditations',\n",
       "       'Sketch of a New Esthetic of Music',\n",
       "       'Some Turns of Thought in Modern Philosophy: Five Essays',\n",
       "       'Sophist', 'Studies in Logical Theory', 'Superstition in Medicine',\n",
       "       'Symbolic Logic', 'The Advancement of Learning',\n",
       "       'The American Republic: Its Constitution, Tendencies, and Destiny',\n",
       "       'The Analysis of Mind', 'The Approach to Philosophy',\n",
       "       'The Awakening of the Soul', 'The Big Engine',\n",
       "       'The Book of Nature', \"The Boy's Playbook of Science\",\n",
       "       'The Case of Wagner, Nietzsche Contra Wagner, and Selected Aphorisms.',\n",
       "       'The Categories', 'The Complex Vision', 'The Concept of Nature',\n",
       "       'The Confessions of Al Ghazzali',\n",
       "       'The Critique of Practical Reason', 'The Dance of Life',\n",
       "       'The Development of Metaphysics in Persia',\n",
       "       'The Discovery of the Future',\n",
       "       'The Elementary Forms of the Religious Life',\n",
       "       'The English Utilitarians, Volume 1 (of 3)',\n",
       "       'The Essays of Arthur Schopenhauer; Religion, a Dialogue, Etc.',\n",
       "       'The Essays of Arthur Schopenhauer; The Art of Literature',\n",
       "       'The Essence of Christianity',\n",
       "       'The Five Great Philosophies of Life',\n",
       "       'The Forgotten Man, and Other Essays',\n",
       "       'The Fundamental Doctrines of the Christian faith',\n",
       "       'The Game of Logic',\n",
       "       'The Golden Calf, Which the World Adores, and Desires',\n",
       "       'The Golden Sayings of Epictetus, with the Hymn of Cleanthes',\n",
       "       'The Greek Philosophers, Vol. 1 (of 2)',\n",
       "       'The Greek Philosophers, Vol. 2 (of 2)',\n",
       "       'The Heroic Enthusiasts (Gli Eroici Furori) Part the First',\n",
       "       'The History of Freedom, and Other Essays',\n",
       "       'The Idea of Progress: An Inquiry into Its Origin and Growth',\n",
       "       'The Improvement of Human Reason',\n",
       "       \"The Introduction to Hegel's Philosophy of Fine Arts\",\n",
       "       'The Joyful Wisdom (\"La Gaya Scienza\")', 'The Key to Theosophy',\n",
       "       'The Law',\n",
       "       'The Law of Civilization and Decay: An Essay on History',\n",
       "       'The Life of Reason: The Phases of Human Progress',\n",
       "       'The Lives and Opinions of Eminent Philosophers',\n",
       "       'The Mathematicall Praeface to Elements of Geometrie of Euclid of Megara',\n",
       "       'The Mediaeval Mind (Volume 1 of 2)',\n",
       "       'The Mediaeval Mind (Volume 2 of 2)',\n",
       "       'The Metaphysical Elements of Ethics',\n",
       "       'The Moral and Intellectual Diversity of Races',\n",
       "       'The Myrtle Reed Cook Book', 'The Mystics of Islam',\n",
       "       'The Natural Philosophy of Love',\n",
       "       'The Natural Philosophy of William Gilbert and His Predecessors',\n",
       "       'The Oxford Book of American Essays', \"The Path, Vol. I.—1886-'7.\",\n",
       "       'The Phantom World; or, The philosophy of spirits, apparitions, &c, &c.',\n",
       "       'The Philosophy and Theology of Averroes', 'The Philosophy of Art',\n",
       "       'The Philosophy of Beards', 'The Philosophy of Despair',\n",
       "       'The Philosophy of Disenchantment',\n",
       "       'The Philosophy of Fine Art, volume 1 (of 4)',\n",
       "       'The Philosophy of Fine Art, volume 2 (of 4)',\n",
       "       'The Philosophy of Fine Art, volume 3 (of 4)',\n",
       "       'The Philosophy of Fine Art, volume 4 (of 4)',\n",
       "       'The Philosophy of Friedrich Nietzsche',\n",
       "       'The Philosophy of Giambattista Vico',\n",
       "       'The Philosophy of History, Vol. 1 of 2',\n",
       "       'The Philosophy of Immanuel Kant', 'The Philosophy of Mystery',\n",
       "       'The Philosophy of Spinoza',\n",
       "       'The Philosophy of Spiritual Activity', 'The Philosophy of Style',\n",
       "       'The Philosophy of the Moral Feelings',\n",
       "       'The Philosophy of the Weather. And a Guide to Its Changes',\n",
       "       'The Picture of Dorian Gray', 'The Prince',\n",
       "       'The Progress of the Century',\n",
       "       'The Prose Writings of Heinrich Heine',\n",
       "       'The Psychology of Nations',\n",
       "       'The Raven, and The Philosophy of Composition',\n",
       "       'The Reform of Education', 'The Sarva-Darsana-Samgraha',\n",
       "       'The Sayings of Confucius', 'The School and Society',\n",
       "       'The Science and Philosophy of the Organism',\n",
       "       'The Secret Doctrine, Vol. 1 of 4',\n",
       "       'The Secret Doctrine, Vol. 2 of 4',\n",
       "       'The Secret Doctrine, Vol. 3 of 4',\n",
       "       'The Secret Doctrine, Vol. 4 of 4',\n",
       "       'The Soul of the Indian: An Interpretation', 'The Spinster Book',\n",
       "       'The Symbolism of Freemasonry', 'The Symposium',\n",
       "       'The Tao Teh King, or the Tao and its Characteristics',\n",
       "       'The Teaching of Epictetus', 'The Theory of Moral Sentiments',\n",
       "       'The Universe a Vast Electric Organism',\n",
       "       'The Unseen World, and Other Essays',\n",
       "       'The Varieties of Religious Experience: A Study in Human Nature',\n",
       "       'The White Spark',\n",
       "       'The Will to Believe, and Other Essays in Popular Philosophy',\n",
       "       'The Wisdom of Confucius',\n",
       "       'The Wit and Humor of America, Volume IX (of X)',\n",
       "       'The Wonders of Life: A Popular Study of Biological Philosophy',\n",
       "       'The Works of Edgar Allan Poe — Volume 5',\n",
       "       'The Works of George Berkeley. Vol. 1 of 4: Philosophical Works, 1705-21',\n",
       "       'The World as Will and Idea (Vol. 2 of 3)',\n",
       "       'The World as Will and Idea (Vol. 3 of 3)',\n",
       "       \"The World's Greatest Books — Volume 13 — Religion and Philosophy\",\n",
       "       \"The World's Greatest Books — Volume 14 — Philosophy and Economics\",\n",
       "       \"The World's Greatest Books — Volume 15 — Science\",\n",
       "       'The Writings of Thomas Paine — Volume 4 (1794-1796): The Age of Reason',\n",
       "       'The inequality of human races', 'The logic of modern physics',\n",
       "       'The philosophy of Elbert Hubbard',\n",
       "       'The philosophy of mathematics',\n",
       "       'The theory of relativity and its influence on scientific thought',\n",
       "       'Theaetetus', 'Theologico-Political Treatise — Part 1',\n",
       "       'Theologico-Political Treatise — Part 2',\n",
       "       'Thoughts out of Season, Part I',\n",
       "       'Three Philosophical Poets: Lucretius, Dante, and Goethe',\n",
       "       'Universal Brotherhood, Volume XIII, No. 11, February 1899',\n",
       "       'Utilitarianism', \"Voltaire's Philosophical Dictionary\",\n",
       "       'What Is Art?', 'What Nietzsche Taught',\n",
       "       'Winds Of Doctrine: Studies in Contemporary Opinion',\n",
       "       'Youth and Life',\n",
       "       'Æsthetic as science of expression and general linguistic'],\n",
       "      dtype=object)"
      ]
     },
     "execution_count": 23,
     "metadata": {},
     "output_type": "execute_result"
    }
   ],
   "source": [
    "pd.set_option('display.max_rows', None)\n",
    "res.author.unique()"
   ]
  },
  {
   "cell_type": "code",
   "execution_count": null,
   "metadata": {},
   "outputs": [],
   "source": []
  }
 ],
 "metadata": {
  "kernelspec": {
   "display_name": "base",
   "language": "python",
   "name": "python3"
  },
  "language_info": {
   "codemirror_mode": {
    "name": "ipython",
    "version": 3
   },
   "file_extension": ".py",
   "mimetype": "text/x-python",
   "name": "python",
   "nbconvert_exporter": "python",
   "pygments_lexer": "ipython3",
   "version": "3.9.13"
  },
  "orig_nbformat": 4
 },
 "nbformat": 4,
 "nbformat_minor": 2
}
